{
 "cells": [
  {
   "cell_type": "markdown",
   "metadata": {},
   "source": [
    "## Spark Cheatsheet by DataCamp\n",
    "\n",
    "![](https://res.cloudinary.com/dyd911kmh/image/upload/f_auto,q_auto:best/v1625837623/PySpark_Cheat_Sheet-_Spark_in_Python_owornh.png)\n",
    "\n",
    "**RDD:**\n",
    "https://www.datacamp.com/community/blog/pyspark-cheat-sheet-python \n",
    "\n",
    "**DataFrame:**\n",
    "https://www.datacamp.com/community/blog/pyspark-sql-cheat-sheet"
   ]
  },
  {
   "cell_type": "markdown",
   "metadata": {},
   "source": [
    "### Load Data"
   ]
  },
  {
   "cell_type": "code",
   "execution_count": 1,
   "metadata": {},
   "outputs": [
    {
     "data": {
      "text/html": [
       "\n",
       "            <div>\n",
       "                <p><b>SparkSession - in-memory</b></p>\n",
       "                \n",
       "        <div>\n",
       "            <p><b>SparkContext</b></p>\n",
       "\n",
       "            <p><a href=\"http://host.docker.internal:4040\">Spark UI</a></p>\n",
       "\n",
       "            <dl>\n",
       "              <dt>Version</dt>\n",
       "                <dd><code>v3.3.0</code></dd>\n",
       "              <dt>Master</dt>\n",
       "                <dd><code>local[*]</code></dd>\n",
       "              <dt>AppName</dt>\n",
       "                <dd><code>pyspark-shell</code></dd>\n",
       "            </dl>\n",
       "        </div>\n",
       "        \n",
       "            </div>\n",
       "        "
      ],
      "text/plain": [
       "<pyspark.sql.session.SparkSession at 0x285119491f0>"
      ]
     },
     "execution_count": 1,
     "metadata": {},
     "output_type": "execute_result"
    }
   ],
   "source": [
    "from pyspark.sql import SparkSession\n",
    "\n",
    "spark = SparkSession.builder.getOrCreate()\n",
    "spark"
   ]
  },
  {
   "cell_type": "code",
   "execution_count": 2,
   "metadata": {},
   "outputs": [
    {
     "data": {
      "text/plain": [
       "DataFrame[Invoice: string, StockCode: string, Description: string, Quantity: int, InvoiceDate: string, Price: double, Customer ID: int, Country: string]"
      ]
     },
     "execution_count": 2,
     "metadata": {},
     "output_type": "execute_result"
    }
   ],
   "source": [
    "df = spark.read.csv('../data/online_retail_II.csv', header=True, inferSchema=True)\n",
    "df"
   ]
  },
  {
   "cell_type": "code",
   "execution_count": 3,
   "metadata": {},
   "outputs": [
    {
     "name": "stdout",
     "output_type": "stream",
     "text": [
      "+-------+---------+--------------------+--------+--------------+-----+-----------+--------------+\n",
      "|Invoice|StockCode|         Description|Quantity|   InvoiceDate|Price|Customer ID|       Country|\n",
      "+-------+---------+--------------------+--------+--------------+-----+-----------+--------------+\n",
      "| 489434|    85048|15CM CHRISTMAS GL...|      12|12/01/09 07:45| 6.95|      13085|United Kingdom|\n",
      "| 489434|   79323P|  PINK CHERRY LIGHTS|      12|12/01/09 07:45| 6.75|      13085|United Kingdom|\n",
      "| 489434|   79323W| WHITE CHERRY LIGHTS|      12|12/01/09 07:45| 6.75|      13085|United Kingdom|\n",
      "| 489434|    22041|\"RECORD FRAME 7\"\"...|      48|12/01/09 07:45|  2.1|      13085|United Kingdom|\n",
      "| 489434|    21232|STRAWBERRY CERAMI...|      24|12/01/09 07:45| 1.25|      13085|United Kingdom|\n",
      "| 489434|    22064|PINK DOUGHNUT TRI...|      24|12/01/09 07:45| 1.65|      13085|United Kingdom|\n",
      "| 489434|    21871| SAVE THE PLANET MUG|      24|12/01/09 07:45| 1.25|      13085|United Kingdom|\n",
      "| 489434|    21523|FANCY FONT HOME S...|      10|12/01/09 07:45| 5.95|      13085|United Kingdom|\n",
      "| 489435|    22350|           CAT BOWL |      12|12/01/09 07:46| 2.55|      13085|United Kingdom|\n",
      "| 489435|    22349|DOG BOWL , CHASIN...|      12|12/01/09 07:46| 3.75|      13085|United Kingdom|\n",
      "| 489435|    22195|HEART MEASURING S...|      24|12/01/09 07:46| 1.65|      13085|United Kingdom|\n",
      "| 489435|    22353|LUNCHBOX WITH CUT...|      12|12/01/09 07:46| 2.55|      13085|United Kingdom|\n",
      "| 489436|   48173C|DOOR MAT BLACK FL...|      10|12/01/09 09:06| 5.95|      13078|United Kingdom|\n",
      "| 489436|    21755|LOVE BUILDING BLO...|      18|12/01/09 09:06| 5.45|      13078|United Kingdom|\n",
      "| 489436|    21754|HOME BUILDING BLO...|       3|12/01/09 09:06| 5.95|      13078|United Kingdom|\n",
      "| 489436|    84879|ASSORTED COLOUR B...|      16|12/01/09 09:06| 1.69|      13078|United Kingdom|\n",
      "| 489436|    22119| PEACE WOODEN BLO...|       3|12/01/09 09:06| 6.95|      13078|United Kingdom|\n",
      "| 489436|    22142|CHRISTMAS CRAFT W...|      12|12/01/09 09:06| 1.45|      13078|United Kingdom|\n",
      "| 489436|    22296|HEART IVORY TRELL...|      12|12/01/09 09:06| 1.65|      13078|United Kingdom|\n",
      "| 489436|    22295|HEART FILIGREE DO...|      12|12/01/09 09:06| 1.65|      13078|United Kingdom|\n",
      "+-------+---------+--------------------+--------+--------------+-----+-----------+--------------+\n",
      "only showing top 20 rows\n",
      "\n"
     ]
    }
   ],
   "source": [
    "df.show()"
   ]
  },
  {
   "cell_type": "code",
   "execution_count": 4,
   "metadata": {},
   "outputs": [
    {
     "name": "stdout",
     "output_type": "stream",
     "text": [
      "+-------+---------+--------------------+--------+--------------+-----+-----------+--------------+\n",
      "|Invoice|StockCode|         Description|Quantity|   InvoiceDate|Price|Customer ID|       Country|\n",
      "+-------+---------+--------------------+--------+--------------+-----+-----------+--------------+\n",
      "| 489434|    85048|15CM CHRISTMAS GL...|      12|12/01/09 07:45| 6.95|      13085|United Kingdom|\n",
      "| 489434|   79323P|  PINK CHERRY LIGHTS|      12|12/01/09 07:45| 6.75|      13085|United Kingdom|\n",
      "| 489434|   79323W| WHITE CHERRY LIGHTS|      12|12/01/09 07:45| 6.75|      13085|United Kingdom|\n",
      "| 489434|    22041|\"RECORD FRAME 7\"\"...|      48|12/01/09 07:45|  2.1|      13085|United Kingdom|\n",
      "| 489434|    21232|STRAWBERRY CERAMI...|      24|12/01/09 07:45| 1.25|      13085|United Kingdom|\n",
      "+-------+---------+--------------------+--------+--------------+-----+-----------+--------------+\n",
      "only showing top 5 rows\n",
      "\n"
     ]
    }
   ],
   "source": [
    "df.show(5)"
   ]
  },
  {
   "cell_type": "markdown",
   "metadata": {},
   "source": [
    "### Data Profiling"
   ]
  },
  {
   "cell_type": "code",
   "execution_count": 5,
   "metadata": {},
   "outputs": [
    {
     "data": {
      "text/plain": [
       "['Invoice',\n",
       " 'StockCode',\n",
       " 'Description',\n",
       " 'Quantity',\n",
       " 'InvoiceDate',\n",
       " 'Price',\n",
       " 'Customer ID',\n",
       " 'Country']"
      ]
     },
     "execution_count": 5,
     "metadata": {},
     "output_type": "execute_result"
    }
   ],
   "source": [
    "df.columns"
   ]
  },
  {
   "cell_type": "code",
   "execution_count": 6,
   "metadata": {},
   "outputs": [
    {
     "data": {
      "text/plain": [
       "[('Invoice', 'string'),\n",
       " ('StockCode', 'string'),\n",
       " ('Description', 'string'),\n",
       " ('Quantity', 'int'),\n",
       " ('InvoiceDate', 'string'),\n",
       " ('Price', 'double'),\n",
       " ('Customer ID', 'int'),\n",
       " ('Country', 'string')]"
      ]
     },
     "execution_count": 6,
     "metadata": {},
     "output_type": "execute_result"
    }
   ],
   "source": [
    "df.dtypes"
   ]
  },
  {
   "cell_type": "code",
   "execution_count": 7,
   "metadata": {},
   "outputs": [
    {
     "name": "stdout",
     "output_type": "stream",
     "text": [
      "root\n",
      " |-- Invoice: string (nullable = true)\n",
      " |-- StockCode: string (nullable = true)\n",
      " |-- Description: string (nullable = true)\n",
      " |-- Quantity: integer (nullable = true)\n",
      " |-- InvoiceDate: string (nullable = true)\n",
      " |-- Price: double (nullable = true)\n",
      " |-- Customer ID: integer (nullable = true)\n",
      " |-- Country: string (nullable = true)\n",
      "\n"
     ]
    }
   ],
   "source": [
    "df.printSchema()"
   ]
  },
  {
   "cell_type": "code",
   "execution_count": 8,
   "metadata": {},
   "outputs": [
    {
     "data": {
      "text/plain": [
       "525461"
      ]
     },
     "execution_count": 8,
     "metadata": {},
     "output_type": "execute_result"
    }
   ],
   "source": [
    "df.count()"
   ]
  },
  {
   "cell_type": "code",
   "execution_count": 9,
   "metadata": {},
   "outputs": [
    {
     "name": "stdout",
     "output_type": "stream",
     "text": [
      "+-------+-----------------+------------------+--------------------+------------------+--------------+------------------+------------------+-----------+\n",
      "|summary|          Invoice|         StockCode|         Description|          Quantity|   InvoiceDate|             Price|       Customer ID|    Country|\n",
      "+-------+-----------------+------------------+--------------------+------------------+--------------+------------------+------------------+-----------+\n",
      "|  count|           525461|            525461|              522533|            525461|        525461|            525461|            417534|     525461|\n",
      "|   mean|514496.9241788484| 30518.37992495103|  22226.666666666668|10.337667305470815|          null| 4.688834478677593|15360.645477973052|       null|\n",
      "| stddev|14439.20949446514|20693.168152854687|   646.8974674037095|107.42411026879768|          null|146.12691395292683|1680.8113157457158|       null|\n",
      "|    min|           489434|             10002|  DOORMAT UNION J...|             -9600|01/04/10 01:03|         -53594.36|             12346|  Australia|\n",
      "|    max|          C538164|                 m|          wrong invc|             19152|12/23/09 12:30|          25111.09|             18287|West Indies|\n",
      "+-------+-----------------+------------------+--------------------+------------------+--------------+------------------+------------------+-----------+\n",
      "\n"
     ]
    }
   ],
   "source": [
    "df.describe().show()"
   ]
  },
  {
   "cell_type": "code",
   "execution_count": 10,
   "metadata": {},
   "outputs": [
    {
     "name": "stdout",
     "output_type": "stream",
     "text": [
      "+-------+-----------------+------------------+--------------------+------------------+--------------+------------------+------------------+-----------+\n",
      "|summary|          Invoice|         StockCode|         Description|          Quantity|   InvoiceDate|             Price|       Customer ID|    Country|\n",
      "+-------+-----------------+------------------+--------------------+------------------+--------------+------------------+------------------+-----------+\n",
      "|  count|           525461|            525461|              522533|            525461|        525461|            525461|            417534|     525461|\n",
      "|   mean|514496.9241788484| 30518.37992495103|  22226.666666666668|10.337667305470815|          null| 4.688834478677593|15360.645477973052|       null|\n",
      "| stddev|14439.20949446514|20693.168152854687|   646.8974674037095|107.42411026879768|          null|146.12691395292683|1680.8113157457158|       null|\n",
      "|    min|           489434|             10002|  DOORMAT UNION J...|             -9600|01/04/10 01:03|         -53594.36|             12346|  Australia|\n",
      "|    25%|         501879.0|           21528.0|             21494.0|                 1|          null|              1.25|             13983|       null|\n",
      "|    50%|         514826.0|           22172.0|             22467.0|                 3|          null|               2.1|             15311|       null|\n",
      "|    75%|         527297.0|           22652.0|             22719.0|                10|          null|              4.21|             16798|       null|\n",
      "|    max|          C538164|                 m|          wrong invc|             19152|12/23/09 12:30|          25111.09|             18287|West Indies|\n",
      "+-------+-----------------+------------------+--------------------+------------------+--------------+------------------+------------------+-----------+\n",
      "\n"
     ]
    }
   ],
   "source": [
    "df.summary().show()"
   ]
  },
  {
   "cell_type": "markdown",
   "metadata": {},
   "source": [
    "### EDA - Exploratory Data Analysis"
   ]
  },
  {
   "cell_type": "code",
   "execution_count": 11,
   "metadata": {},
   "outputs": [
    {
     "name": "stdout",
     "output_type": "stream",
     "text": [
      "+--------+-----+\n",
      "|Quantity|Price|\n",
      "+--------+-----+\n",
      "|      12| 6.95|\n",
      "|      12| 6.75|\n",
      "|      12| 6.75|\n",
      "|      48|  2.1|\n",
      "|      24| 1.25|\n",
      "|      24| 1.65|\n",
      "|      24| 1.25|\n",
      "|      10| 5.95|\n",
      "|      12| 2.55|\n",
      "|      12| 3.75|\n",
      "|      24| 1.65|\n",
      "|      12| 2.55|\n",
      "|      10| 5.95|\n",
      "|      18| 5.45|\n",
      "|       3| 5.95|\n",
      "|      16| 1.69|\n",
      "|       3| 6.95|\n",
      "|      12| 1.45|\n",
      "|      12| 1.65|\n",
      "|      12| 1.65|\n",
      "+--------+-----+\n",
      "only showing top 20 rows\n",
      "\n"
     ]
    }
   ],
   "source": [
    "df.select('Quantity', 'Price').show()"
   ]
  },
  {
   "cell_type": "code",
   "execution_count": 12,
   "metadata": {},
   "outputs": [
    {
     "name": "stdout",
     "output_type": "stream",
     "text": [
      "+-------+------------------+\n",
      "|summary|          Quantity|\n",
      "+-------+------------------+\n",
      "|  count|            525461|\n",
      "|   mean|10.337667305470815|\n",
      "| stddev|107.42411026879768|\n",
      "|    min|             -9600|\n",
      "|    25%|                 1|\n",
      "|    50%|                 3|\n",
      "|    75%|                10|\n",
      "|    max|             19152|\n",
      "+-------+------------------+\n",
      "\n"
     ]
    }
   ],
   "source": [
    "df.select('Quantity').summary().show()"
   ]
  },
  {
   "cell_type": "code",
   "execution_count": 13,
   "metadata": {},
   "outputs": [
    {
     "name": "stdout",
     "output_type": "stream",
     "text": [
      "+-------+---------+--------------------+--------+--------------+-----+-----------+--------------+\n",
      "|Invoice|StockCode|         Description|Quantity|   InvoiceDate|Price|Customer ID|       Country|\n",
      "+-------+---------+--------------------+--------+--------------+-----+-----------+--------------+\n",
      "| 489434|    85048|15CM CHRISTMAS GL...|      12|12/01/09 07:45| 6.95|      13085|United Kingdom|\n",
      "| 489434|   79323P|  PINK CHERRY LIGHTS|      12|12/01/09 07:45| 6.75|      13085|United Kingdom|\n",
      "| 489434|   79323W| WHITE CHERRY LIGHTS|      12|12/01/09 07:45| 6.75|      13085|United Kingdom|\n",
      "| 489434|    22041|\"RECORD FRAME 7\"\"...|      48|12/01/09 07:45|  2.1|      13085|United Kingdom|\n",
      "| 489434|    21232|STRAWBERRY CERAMI...|      24|12/01/09 07:45| 1.25|      13085|United Kingdom|\n",
      "| 489434|    22064|PINK DOUGHNUT TRI...|      24|12/01/09 07:45| 1.65|      13085|United Kingdom|\n",
      "| 489434|    21871| SAVE THE PLANET MUG|      24|12/01/09 07:45| 1.25|      13085|United Kingdom|\n",
      "| 489434|    21523|FANCY FONT HOME S...|      10|12/01/09 07:45| 5.95|      13085|United Kingdom|\n",
      "| 489435|    22350|           CAT BOWL |      12|12/01/09 07:46| 2.55|      13085|United Kingdom|\n",
      "| 489435|    22349|DOG BOWL , CHASIN...|      12|12/01/09 07:46| 3.75|      13085|United Kingdom|\n",
      "| 489435|    22195|HEART MEASURING S...|      24|12/01/09 07:46| 1.65|      13085|United Kingdom|\n",
      "| 489435|    22353|LUNCHBOX WITH CUT...|      12|12/01/09 07:46| 2.55|      13085|United Kingdom|\n",
      "| 489436|   48173C|DOOR MAT BLACK FL...|      10|12/01/09 09:06| 5.95|      13078|United Kingdom|\n",
      "| 489436|    21755|LOVE BUILDING BLO...|      18|12/01/09 09:06| 5.45|      13078|United Kingdom|\n",
      "| 489436|    21754|HOME BUILDING BLO...|       3|12/01/09 09:06| 5.95|      13078|United Kingdom|\n",
      "| 489436|    84879|ASSORTED COLOUR B...|      16|12/01/09 09:06| 1.69|      13078|United Kingdom|\n",
      "| 489436|    22119| PEACE WOODEN BLO...|       3|12/01/09 09:06| 6.95|      13078|United Kingdom|\n",
      "| 489436|    22142|CHRISTMAS CRAFT W...|      12|12/01/09 09:06| 1.45|      13078|United Kingdom|\n",
      "| 489436|    22296|HEART IVORY TRELL...|      12|12/01/09 09:06| 1.65|      13078|United Kingdom|\n",
      "| 489436|    22295|HEART FILIGREE DO...|      12|12/01/09 09:06| 1.65|      13078|United Kingdom|\n",
      "+-------+---------+--------------------+--------+--------------+-----+-----------+--------------+\n",
      "only showing top 20 rows\n",
      "\n"
     ]
    }
   ],
   "source": [
    "df.show()"
   ]
  },
  {
   "cell_type": "code",
   "execution_count": 14,
   "metadata": {},
   "outputs": [
    {
     "data": {
      "text/plain": [
       "[Row(summary='count', Quantity='525461'),\n",
       " Row(summary='mean', Quantity='10.337667305470815'),\n",
       " Row(summary='stddev', Quantity='107.42411026879768'),\n",
       " Row(summary='min', Quantity='-9600'),\n",
       " Row(summary='25%', Quantity='1'),\n",
       " Row(summary='50%', Quantity='3'),\n",
       " Row(summary='75%', Quantity='10'),\n",
       " Row(summary='max', Quantity='19152')]"
      ]
     },
     "execution_count": 14,
     "metadata": {},
     "output_type": "execute_result"
    }
   ],
   "source": [
    "df.select('Quantity').summary().collect()"
   ]
  },
  {
   "cell_type": "code",
   "execution_count": 15,
   "metadata": {},
   "outputs": [
    {
     "data": {
      "text/plain": [
       "'3'"
      ]
     },
     "execution_count": 15,
     "metadata": {},
     "output_type": "execute_result"
    }
   ],
   "source": [
    "df.select('Quantity').summary().collect()[5]['Quantity']"
   ]
  },
  {
   "cell_type": "code",
   "execution_count": 16,
   "metadata": {},
   "outputs": [
    {
     "name": "stdout",
     "output_type": "stream",
     "text": [
      "+-------+---------+--------------------+--------+--------------+-----+-----------+--------------+\n",
      "|Invoice|StockCode|         Description|Quantity|   InvoiceDate|Price|Customer ID|       Country|\n",
      "+-------+---------+--------------------+--------+--------------+-----+-----------+--------------+\n",
      "|C489449|    22087|PAPER BUNTING WHI...|     -12|12/01/09 10:33| 2.95|      16321|     Australia|\n",
      "|C489449|   85206A|CREAM FELT EASTER...|      -6|12/01/09 10:33| 1.65|      16321|     Australia|\n",
      "|C489449|    21895|POTTING SHED SOW ...|      -4|12/01/09 10:33| 4.25|      16321|     Australia|\n",
      "|C489449|    21896|  POTTING SHED TWINE|      -6|12/01/09 10:33|  2.1|      16321|     Australia|\n",
      "|C489449|    22083|PAPER CHAIN KIT R...|     -12|12/01/09 10:33| 2.95|      16321|     Australia|\n",
      "|C489449|    21871| SAVE THE PLANET MUG|     -12|12/01/09 10:33| 1.25|      16321|     Australia|\n",
      "|C489449|    84946|ANTIQUE SILVER TE...|     -12|12/01/09 10:33| 1.25|      16321|     Australia|\n",
      "|C489449|   84970S|HANGING HEART ZIN...|     -24|12/01/09 10:33| 0.85|      16321|     Australia|\n",
      "|C489449|    22090|PAPER BUNTING RET...|     -12|12/01/09 10:33| 2.95|      16321|     Australia|\n",
      "|C489459|   90200A|PURPLE SWEETHEART...|      -3|12/01/09 10:44| 4.25|      17592|United Kingdom|\n",
      "|C489459|   90200D|PINK SWEETHEART B...|      -3|12/01/09 10:44| 4.25|      17592|United Kingdom|\n",
      "|C489459|   90200B|BLACK SWEETHEART ...|      -3|12/01/09 10:44| 4.25|      17592|United Kingdom|\n",
      "|C489459|   90200E|GREEN SWEETHEART ...|      -3|12/01/09 10:44| 4.25|      17592|United Kingdom|\n",
      "|C489459|   90200C|BLUE SWEETHEART B...|      -3|12/01/09 10:44| 4.25|      17592|United Kingdom|\n",
      "|C489459|   90185C|BLACK DIAMANTE EX...|      -3|12/01/09 10:44| 4.25|      17592|United Kingdom|\n",
      "|C489459|   90185B|AMETHYST DIAMANTE...|      -3|12/01/09 10:44| 4.25|      17592|United Kingdom|\n",
      "|C489459|   90003C|MIDNIGHT BLUE PAI...|      -3|12/01/09 10:44| 3.75|      17592|United Kingdom|\n",
      "|C489459|   90003D|CRYSTAL PAIR HEAR...|      -3|12/01/09 10:44| 3.75|      17592|United Kingdom|\n",
      "|C489459|   90003B|ROSE COLOUR PAIR ...|      -3|12/01/09 10:44| 3.75|      17592|United Kingdom|\n",
      "|C489459|   90209C|PINK ENAMEL+GLASS...|      -3|12/01/09 10:44|  2.1|      17592|United Kingdom|\n",
      "+-------+---------+--------------------+--------+--------------+-----+-----------+--------------+\n",
      "only showing top 20 rows\n",
      "\n"
     ]
    }
   ],
   "source": [
    "df.filter( df['Quantity'] < 0 ).show()"
   ]
  },
  {
   "cell_type": "code",
   "execution_count": 17,
   "metadata": {},
   "outputs": [
    {
     "name": "stdout",
     "output_type": "stream",
     "text": [
      "+-------+---------+--------------------+--------+--------------+-----+-----------+--------------+\n",
      "|Invoice|StockCode|         Description|Quantity|   InvoiceDate|Price|Customer ID|       Country|\n",
      "+-------+---------+--------------------+--------+--------------+-----+-----------+--------------+\n",
      "|C489449|    22087|PAPER BUNTING WHI...|     -12|12/01/09 10:33| 2.95|      16321|     Australia|\n",
      "|C489449|   85206A|CREAM FELT EASTER...|      -6|12/01/09 10:33| 1.65|      16321|     Australia|\n",
      "|C489449|    21895|POTTING SHED SOW ...|      -4|12/01/09 10:33| 4.25|      16321|     Australia|\n",
      "|C489449|    21896|  POTTING SHED TWINE|      -6|12/01/09 10:33|  2.1|      16321|     Australia|\n",
      "|C489449|    22083|PAPER CHAIN KIT R...|     -12|12/01/09 10:33| 2.95|      16321|     Australia|\n",
      "|C489449|    21871| SAVE THE PLANET MUG|     -12|12/01/09 10:33| 1.25|      16321|     Australia|\n",
      "|C489449|    84946|ANTIQUE SILVER TE...|     -12|12/01/09 10:33| 1.25|      16321|     Australia|\n",
      "|C489449|   84970S|HANGING HEART ZIN...|     -24|12/01/09 10:33| 0.85|      16321|     Australia|\n",
      "|C489449|    22090|PAPER BUNTING RET...|     -12|12/01/09 10:33| 2.95|      16321|     Australia|\n",
      "|C489459|   90200A|PURPLE SWEETHEART...|      -3|12/01/09 10:44| 4.25|      17592|United Kingdom|\n",
      "|C489459|   90200D|PINK SWEETHEART B...|      -3|12/01/09 10:44| 4.25|      17592|United Kingdom|\n",
      "|C489459|   90200B|BLACK SWEETHEART ...|      -3|12/01/09 10:44| 4.25|      17592|United Kingdom|\n",
      "|C489459|   90200E|GREEN SWEETHEART ...|      -3|12/01/09 10:44| 4.25|      17592|United Kingdom|\n",
      "|C489459|   90200C|BLUE SWEETHEART B...|      -3|12/01/09 10:44| 4.25|      17592|United Kingdom|\n",
      "|C489459|   90185C|BLACK DIAMANTE EX...|      -3|12/01/09 10:44| 4.25|      17592|United Kingdom|\n",
      "|C489459|   90185B|AMETHYST DIAMANTE...|      -3|12/01/09 10:44| 4.25|      17592|United Kingdom|\n",
      "|C489459|   90003C|MIDNIGHT BLUE PAI...|      -3|12/01/09 10:44| 3.75|      17592|United Kingdom|\n",
      "|C489459|   90003D|CRYSTAL PAIR HEAR...|      -3|12/01/09 10:44| 3.75|      17592|United Kingdom|\n",
      "|C489459|   90003B|ROSE COLOUR PAIR ...|      -3|12/01/09 10:44| 3.75|      17592|United Kingdom|\n",
      "|C489459|   90209C|PINK ENAMEL+GLASS...|      -3|12/01/09 10:44|  2.1|      17592|United Kingdom|\n",
      "+-------+---------+--------------------+--------+--------------+-----+-----------+--------------+\n",
      "only showing top 20 rows\n",
      "\n"
     ]
    }
   ],
   "source": [
    "df.where( df['Quantity'] < 0 ).show()"
   ]
  },
  {
   "cell_type": "code",
   "execution_count": 18,
   "metadata": {},
   "outputs": [
    {
     "name": "stdout",
     "output_type": "stream",
     "text": [
      "+-------+---------+--------------------+--------+--------------+-----+-----------+--------------+\n",
      "|Invoice|StockCode|         Description|Quantity|   InvoiceDate|Price|Customer ID|       Country|\n",
      "+-------+---------+--------------------+--------+--------------+-----+-----------+--------------+\n",
      "| 489438|    20711|     JUMBO BAG TOYS |      60|12/01/09 09:24|  1.3|      18102|United Kingdom|\n",
      "| 489438|   84031A|CHARLIE+LOLA RED ...|      56|12/01/09 09:24|  3.0|      18102|United Kingdom|\n",
      "| 489438|   84031B|CHARLIE LOLA BLUE...|      56|12/01/09 09:24|  3.0|      18102|United Kingdom|\n",
      "| 489438|   84032A|CHARLIE+LOLA PINK...|      60|12/01/09 09:24|  1.9|      18102|United Kingdom|\n",
      "| 489438|   84032B|CHARLIE + LOLA RE...|      56|12/01/09 09:24|  1.9|      18102|United Kingdom|\n",
      "| 489438|   84519A|TOMATO CHARLIE+LO...|      56|12/01/09 09:24| 2.15|      18102|United Kingdom|\n",
      "| 489438|   84519B|CARROT CHARLIE+LO...|      60|12/01/09 09:24|  2.4|      18102|United Kingdom|\n",
      "| 489438|   85132A|CHARLIE + LOLA BI...|      60|12/01/09 09:24| 6.38|      18102|United Kingdom|\n",
      "| 489438|   85132C|CHARLIE AND LOLA ...|      60|12/01/09 09:24|  6.4|      18102|United Kingdom|\n",
      "| 489438|   85183A|CHARLIE & LOLA WA...|      60|12/01/09 09:24|  2.4|      18102|United Kingdom|\n",
      "| 489438|   85183B|CHARLIE & LOLA WA...|      60|12/01/09 09:24|  2.4|      18102|United Kingdom|\n",
      "| 489465|   85123A|WHITE HANGING HEA...|      64|12/01/09 10:52| 2.55|      13767|United Kingdom|\n",
      "| 489514|    21791|VINTAGE HEADS AND...|      72|12/01/09 11:21| 1.06|      15311|United Kingdom|\n",
      "| 489520|    21842|PINK HEART CANDY ...|      54|12/01/09 11:41| 2.55|      14911|          EIRE|\n",
      "| 489532|    16235|RECYCLED PENCIL W...|      60|12/01/09 11:58| 0.21|      13394|United Kingdom|\n",
      "| 489540|    22083|PAPER CHAIN KIT R...|      58|12/01/09 12:18| 2.55|      12913|United Kingdom|\n",
      "| 489540|    22086|PAPER CHAIN KIT 5...|      58|12/01/09 12:18| 2.55|      12913|United Kingdom|\n",
      "| 489539|    84879|ASSORTED COLOUR B...|      96|12/01/09 12:18| 1.69|      15061|United Kingdom|\n",
      "| 489539|    37461|    FUNKY MONKEY MUG|      96|12/01/09 12:18| 0.85|      15061|United Kingdom|\n",
      "| 489539|    22139|RETRO SPOT TEA SE...|      72|12/01/09 12:18| 4.25|      15061|United Kingdom|\n",
      "+-------+---------+--------------------+--------+--------------+-----+-----------+--------------+\n",
      "only showing top 20 rows\n",
      "\n"
     ]
    }
   ],
   "source": [
    "# TODO: 1. Quantity 50 - 120\n",
    "df.filter((df['Quantity'] > 50) & (df['Quantity'] < 120)).show()"
   ]
  },
  {
   "cell_type": "code",
   "execution_count": 19,
   "metadata": {},
   "outputs": [
    {
     "name": "stdout",
     "output_type": "stream",
     "text": [
      "+-------+---------+--------------------+--------+--------------+-----+-----------+--------------+\n",
      "|Invoice|StockCode|         Description|Quantity|   InvoiceDate|Price|Customer ID|       Country|\n",
      "+-------+---------+--------------------+--------+--------------+-----+-----------+--------------+\n",
      "| 489438|    20711|     JUMBO BAG TOYS |      60|12/01/09 09:24|  1.3|      18102|United Kingdom|\n",
      "| 489438|   84031A|CHARLIE+LOLA RED ...|      56|12/01/09 09:24|  3.0|      18102|United Kingdom|\n",
      "| 489438|   84031B|CHARLIE LOLA BLUE...|      56|12/01/09 09:24|  3.0|      18102|United Kingdom|\n",
      "| 489438|   84032A|CHARLIE+LOLA PINK...|      60|12/01/09 09:24|  1.9|      18102|United Kingdom|\n",
      "| 489438|   84032B|CHARLIE + LOLA RE...|      56|12/01/09 09:24|  1.9|      18102|United Kingdom|\n",
      "| 489438|   84519A|TOMATO CHARLIE+LO...|      56|12/01/09 09:24| 2.15|      18102|United Kingdom|\n",
      "| 489438|   84519B|CARROT CHARLIE+LO...|      60|12/01/09 09:24|  2.4|      18102|United Kingdom|\n",
      "| 489438|   85132A|CHARLIE + LOLA BI...|      60|12/01/09 09:24| 6.38|      18102|United Kingdom|\n",
      "| 489438|   85132C|CHARLIE AND LOLA ...|      60|12/01/09 09:24|  6.4|      18102|United Kingdom|\n",
      "| 489438|   85183A|CHARLIE & LOLA WA...|      60|12/01/09 09:24|  2.4|      18102|United Kingdom|\n",
      "| 489438|   85183B|CHARLIE & LOLA WA...|      60|12/01/09 09:24|  2.4|      18102|United Kingdom|\n",
      "| 489465|   85123A|WHITE HANGING HEA...|      64|12/01/09 10:52| 2.55|      13767|United Kingdom|\n",
      "| 489514|    21791|VINTAGE HEADS AND...|      72|12/01/09 11:21| 1.06|      15311|United Kingdom|\n",
      "| 489514|   47591D|PINK FAIRY CAKE C...|      50|12/01/09 11:21| 1.65|      15311|United Kingdom|\n",
      "| 489520|    21842|PINK HEART CANDY ...|      54|12/01/09 11:41| 2.55|      14911|          EIRE|\n",
      "| 489532|    16235|RECYCLED PENCIL W...|      60|12/01/09 11:58| 0.21|      13394|United Kingdom|\n",
      "| 489540|    22083|PAPER CHAIN KIT R...|      58|12/01/09 12:18| 2.55|      12913|United Kingdom|\n",
      "| 489540|    22086|PAPER CHAIN KIT 5...|      58|12/01/09 12:18| 2.55|      12913|United Kingdom|\n",
      "| 489539|    84879|ASSORTED COLOUR B...|      96|12/01/09 12:18| 1.69|      15061|United Kingdom|\n",
      "| 489539|    37461|    FUNKY MONKEY MUG|      96|12/01/09 12:18| 0.85|      15061|United Kingdom|\n",
      "+-------+---------+--------------------+--------+--------------+-----+-----------+--------------+\n",
      "only showing top 20 rows\n",
      "\n"
     ]
    }
   ],
   "source": [
    "df.filter(df['Quantity'].between(50, 120)).show()"
   ]
  },
  {
   "cell_type": "code",
   "execution_count": 20,
   "metadata": {},
   "outputs": [
    {
     "name": "stdout",
     "output_type": "stream",
     "text": [
      "+-------+---------+--------------------+--------+--------------+-----+-----------+--------------+\n",
      "|Invoice|StockCode|         Description|Quantity|   InvoiceDate|Price|Customer ID|       Country|\n",
      "+-------+---------+--------------------+--------+--------------+-----+-----------+--------------+\n",
      "| 489439|   16161P|  WRAP ENGLISH ROSE |      25|12/01/09 09:28| 0.42|      12682|        France|\n",
      "| 489439|   16169N|WRAP BLUE RUSSIAN...|      25|12/01/09 09:28| 0.42|      12682|        France|\n",
      "| 489442|   84251J|GREETING CARD, TH...|      12|12/01/09 09:46| 0.42|      13635|United Kingdom|\n",
      "| 489442|    22024|RAINY LADIES BIRT...|      12|12/01/09 09:46| 0.42|      13635|United Kingdom|\n",
      "| 489442|    22026|BANQUET BIRTHDAY ...|      12|12/01/09 09:46| 0.42|      13635|United Kingdom|\n",
      "| 489442|    22029|SPACE BOY BIRTHDA...|      12|12/01/09 09:46| 0.42|      13635|United Kingdom|\n",
      "| 489442|    22025|RING OF ROSES BIR...|      12|12/01/09 09:46| 0.42|      13635|United Kingdom|\n",
      "| 489442|    22031|BOTANICAL LAVENDE...|      12|12/01/09 09:46| 0.42|      13635|United Kingdom|\n",
      "| 489442|    21916|SET 12 RETRO WHIT...|      24|12/01/09 09:46| 0.42|      13635|United Kingdom|\n",
      "| 489445|    35951|FOLKART BAUBLE CH...|      48|12/01/09 09:57| 0.38|      17519|United Kingdom|\n",
      "| 489460|    84598|BOYS ALPHABET IRO...|     576|12/01/09 10:46| 0.21|      16167|United Kingdom|\n",
      "| 489460|    84568|GIRLS ALPHABET IR...|     288|12/01/09 10:46| 0.21|      16167|United Kingdom|\n",
      "| 489522|    21916|SET 12 RETRO WHIT...|       3|12/01/09 11:45| 0.42|      15998|United Kingdom|\n",
      "| 489522|    21829|DINOSAUR KEYRINGS...|      36|12/01/09 11:45| 0.21|      15998|United Kingdom|\n",
      "| 489522|    22154|ANGEL DECORATION ...|       6|12/01/09 11:45| 0.42|      15998|United Kingdom|\n",
      "| 489522|    22155|STAR DECORATION R...|       6|12/01/09 11:45| 0.42|      15998|United Kingdom|\n",
      "| 489522|    21495|         SKULLS WRAP|      25|12/01/09 11:45| 0.42|      15998|United Kingdom|\n",
      "| 489526|    21498|    RED SPOTS  WRAP |      25|12/01/09 11:50| 0.42|      12533|       Germany|\n",
      "| 489526|   16169F|       WRAP BLIZZARD|      25|12/01/09 11:50| 0.42|      12533|       Germany|\n",
      "| 489529|    22030|SWALLOWS GREETING...|       1|12/01/09 11:51| 0.42|      17984|United Kingdom|\n",
      "+-------+---------+--------------------+--------+--------------+-----+-----------+--------------+\n",
      "only showing top 20 rows\n",
      "\n"
     ]
    }
   ],
   "source": [
    "# TODO: 2. Price 0.1 - 0.5\n",
    "df.filter(df['Price'].between(0.1, 0.5)).show()"
   ]
  },
  {
   "cell_type": "code",
   "execution_count": 21,
   "metadata": {},
   "outputs": [
    {
     "name": "stdout",
     "output_type": "stream",
     "text": [
      "+-------+---------+--------------------+--------+--------------+-----+-----------+--------------+\n",
      "|Invoice|StockCode|         Description|Quantity|   InvoiceDate|Price|Customer ID|       Country|\n",
      "+-------+---------+--------------------+--------+--------------+-----+-----------+--------------+\n",
      "| 489532|    16235|RECYCLED PENCIL W...|      60|12/01/09 11:58| 0.21|      13394|United Kingdom|\n",
      "| 489539|    21500|   PINK SPOTS  WRAP |     100|12/01/09 12:18| 0.34|      15061|United Kingdom|\n",
      "| 489560|   16161C|  WRAP SPEED DEMONS |     100|12/01/09 12:56|  0.1|      13526|United Kingdom|\n",
      "| 489560|    84270|ASSTD DESIGN BUBB...|      90|12/01/09 12:56| 0.21|      13526|United Kingdom|\n",
      "| 489560|    35955|SMALL FOLKART CHR...|      96|12/01/09 12:56| 0.19|      13526|United Kingdom|\n",
      "| 489575|    35957|SMALLFOLKART BAUB...|      96|12/01/09 01:37| 0.19|      13590|United Kingdom|\n",
      "| 489581|    85175|CACTI T-LIGHT CAN...|      64|12/01/09 01:47| 0.42|      15945|United Kingdom|\n",
      "| 489640|    10120|        DOGGY RUBBER|      60|12/01/09 04:17| 0.21|      17345|United Kingdom|\n",
      "| 489640|   17164B|ASS COL SMALL SAN...|      72|12/01/09 04:17| 0.42|      17345|United Kingdom|\n",
      "| 489641|    21212|PACK OF 72 RETRO ...|     120|12/01/09 04:18| 0.42|      13819|United Kingdom|\n",
      "| 489658|    21498|    RED SPOTS  WRAP |      50|12/01/09 05:31| 0.42|      15485|United Kingdom|\n",
      "| 489671|    21212|PACK OF 72 RETRO ...|     120|12/02/09 08:58| 0.42|      14135|United Kingdom|\n",
      "| 489671|    21975|PACK OF 60 DINOSA...|     120|12/02/09 08:58| 0.42|      14135|United Kingdom|\n",
      "| 489671|    21977|PACK OF 60 PINK P...|     120|12/02/09 08:58| 0.42|      14135|United Kingdom|\n",
      "| 489671|    84992|72 SWEETHEART FAI...|     120|12/02/09 08:58| 0.42|      14135|United Kingdom|\n",
      "| 489681|    21829|DINOSAUR KEYRINGS...|      72|12/02/09 10:02| 0.21|      17998|United Kingdom|\n",
      "| 489702|    21212|PACK OF 72 RETRO ...|     120|12/02/09 10:52| 0.42|      17511|United Kingdom|\n",
      "| 489702|    21703|BAG 125g SWIRLY M...|      96|12/02/09 10:52| 0.36|      17511|United Kingdom|\n",
      "| 489702|    84692|BOX OF 24 COCKTAI...|     100|12/02/09 10:52| 0.42|      17511|United Kingdom|\n",
      "| 489723|    21212|PACK OF 72 RETRO ...|     120|12/02/09 10:58| 0.42|      14299|United Kingdom|\n",
      "+-------+---------+--------------------+--------+--------------+-----+-----------+--------------+\n",
      "only showing top 20 rows\n",
      "\n"
     ]
    }
   ],
   "source": [
    "# TODO: 3. Quantity 50 - 120 and UnitPrice 0.1 - 0.5\n",
    "df.filter(df['Quantity'].between(50, 120) & df['Price'].between(0.1, 0.5)).show()"
   ]
  },
  {
   "cell_type": "markdown",
   "metadata": {
    "id": "NN3m9gpHkS5H"
   },
   "source": [
    "### Graphical EDA"
   ]
  },
  {
   "cell_type": "code",
   "execution_count": 22,
   "metadata": {},
   "outputs": [],
   "source": [
    "import seaborn as sns\n",
    "import matplotlib.pyplot as plt\n",
    "import pandas as pd"
   ]
  },
  {
   "cell_type": "code",
   "execution_count": 23,
   "metadata": {},
   "outputs": [
    {
     "data": {
      "text/html": [
       "<div>\n",
       "<style scoped>\n",
       "    .dataframe tbody tr th:only-of-type {\n",
       "        vertical-align: middle;\n",
       "    }\n",
       "\n",
       "    .dataframe tbody tr th {\n",
       "        vertical-align: top;\n",
       "    }\n",
       "\n",
       "    .dataframe thead th {\n",
       "        text-align: right;\n",
       "    }\n",
       "</style>\n",
       "<table border=\"1\" class=\"dataframe\">\n",
       "  <thead>\n",
       "    <tr style=\"text-align: right;\">\n",
       "      <th></th>\n",
       "      <th>Invoice</th>\n",
       "      <th>StockCode</th>\n",
       "      <th>Description</th>\n",
       "      <th>Quantity</th>\n",
       "      <th>InvoiceDate</th>\n",
       "      <th>Price</th>\n",
       "      <th>Customer ID</th>\n",
       "      <th>Country</th>\n",
       "    </tr>\n",
       "  </thead>\n",
       "  <tbody>\n",
       "    <tr>\n",
       "      <th>0</th>\n",
       "      <td>489434</td>\n",
       "      <td>85048</td>\n",
       "      <td>15CM CHRISTMAS GLASS BALL 20 LIGHTS</td>\n",
       "      <td>12</td>\n",
       "      <td>12/01/09 07:45</td>\n",
       "      <td>6.95</td>\n",
       "      <td>13085.0</td>\n",
       "      <td>United Kingdom</td>\n",
       "    </tr>\n",
       "    <tr>\n",
       "      <th>1</th>\n",
       "      <td>489434</td>\n",
       "      <td>79323P</td>\n",
       "      <td>PINK CHERRY LIGHTS</td>\n",
       "      <td>12</td>\n",
       "      <td>12/01/09 07:45</td>\n",
       "      <td>6.75</td>\n",
       "      <td>13085.0</td>\n",
       "      <td>United Kingdom</td>\n",
       "    </tr>\n",
       "    <tr>\n",
       "      <th>2</th>\n",
       "      <td>489434</td>\n",
       "      <td>79323W</td>\n",
       "      <td>WHITE CHERRY LIGHTS</td>\n",
       "      <td>12</td>\n",
       "      <td>12/01/09 07:45</td>\n",
       "      <td>6.75</td>\n",
       "      <td>13085.0</td>\n",
       "      <td>United Kingdom</td>\n",
       "    </tr>\n",
       "    <tr>\n",
       "      <th>3</th>\n",
       "      <td>489434</td>\n",
       "      <td>22041</td>\n",
       "      <td>\"RECORD FRAME 7\"\" SINGLE SIZE \"</td>\n",
       "      <td>48</td>\n",
       "      <td>12/01/09 07:45</td>\n",
       "      <td>2.10</td>\n",
       "      <td>13085.0</td>\n",
       "      <td>United Kingdom</td>\n",
       "    </tr>\n",
       "    <tr>\n",
       "      <th>4</th>\n",
       "      <td>489434</td>\n",
       "      <td>21232</td>\n",
       "      <td>STRAWBERRY CERAMIC TRINKET BOX</td>\n",
       "      <td>24</td>\n",
       "      <td>12/01/09 07:45</td>\n",
       "      <td>1.25</td>\n",
       "      <td>13085.0</td>\n",
       "      <td>United Kingdom</td>\n",
       "    </tr>\n",
       "  </tbody>\n",
       "</table>\n",
       "</div>"
      ],
      "text/plain": [
       "  Invoice StockCode                          Description  Quantity  \\\n",
       "0  489434     85048  15CM CHRISTMAS GLASS BALL 20 LIGHTS        12   \n",
       "1  489434    79323P                   PINK CHERRY LIGHTS        12   \n",
       "2  489434    79323W                  WHITE CHERRY LIGHTS        12   \n",
       "3  489434     22041      \"RECORD FRAME 7\"\" SINGLE SIZE \"        48   \n",
       "4  489434     21232       STRAWBERRY CERAMIC TRINKET BOX        24   \n",
       "\n",
       "      InvoiceDate  Price  Customer ID         Country  \n",
       "0  12/01/09 07:45   6.95      13085.0  United Kingdom  \n",
       "1  12/01/09 07:45   6.75      13085.0  United Kingdom  \n",
       "2  12/01/09 07:45   6.75      13085.0  United Kingdom  \n",
       "3  12/01/09 07:45   2.10      13085.0  United Kingdom  \n",
       "4  12/01/09 07:45   1.25      13085.0  United Kingdom  "
      ]
     },
     "execution_count": 23,
     "metadata": {},
     "output_type": "execute_result"
    }
   ],
   "source": [
    "df_pd = df.toPandas()\n",
    "df_pd.head()"
   ]
  },
  {
   "cell_type": "code",
   "execution_count": 24,
   "metadata": {},
   "outputs": [],
   "source": [
    "df_pd_500row = df_pd[0:500]"
   ]
  },
  {
   "cell_type": "code",
   "execution_count": 25,
   "metadata": {},
   "outputs": [
    {
     "data": {
      "text/plain": [
       "<AxesSubplot:xlabel='Price'>"
      ]
     },
     "execution_count": 25,
     "metadata": {},
     "output_type": "execute_result"
    },
    {
     "data": {
      "image/png": "[encoded data removed]",
      "text/plain": [
       "<Figure size 640x480 with 1 Axes>"
      ]
     },
     "metadata": {},
     "output_type": "display_data"
    }
   ],
   "source": [
    "sns.boxplot(x=df_pd_500row['Price'])"
   ]
  },
  {
   "cell_type": "code",
   "execution_count": 26,
   "metadata": {},
   "outputs": [
    {
     "data": {
      "text/plain": [
       "<AxesSubplot:xlabel='Price', ylabel='Count'>"
      ]
     },
     "execution_count": 26,
     "metadata": {},
     "output_type": "execute_result"
    },
    {
     "data": {
      "image/png": "[encoded data removed]",
      "text/plain": [
       "<Figure size 640x480 with 1 Axes>"
      ]
     },
     "metadata": {},
     "output_type": "display_data"
    }
   ],
   "source": [
    "sns.histplot(data=df_pd_500row['Price'])"
   ]
  },
  {
   "cell_type": "code",
   "execution_count": 27,
   "metadata": {},
   "outputs": [
    {
     "data": {
      "text/plain": [
       "<matplotlib.collections.PathCollection at 0x2852701fb50>"
      ]
     },
     "execution_count": 27,
     "metadata": {},
     "output_type": "execute_result"
    },
    {
     "data": {
      "image/png": "[encoded data removed]",
      "text/plain": [
       "<Figure size 640x480 with 1 Axes>"
      ]
     },
     "metadata": {},
     "output_type": "display_data"
    }
   ],
   "source": [
    "plt.scatter(x=df_pd_500row['Price'], y=df_pd_500row['Quantity'])"
   ]
  },
  {
   "cell_type": "markdown",
   "metadata": {
    "id": "jNWeSFR0TqHt"
   },
   "source": [
    "### Rename Column"
   ]
  },
  {
   "cell_type": "code",
   "execution_count": 28,
   "metadata": {},
   "outputs": [
    {
     "data": {
      "text/plain": [
       "['Invoice',\n",
       " 'StockCode',\n",
       " 'Description',\n",
       " 'Quantity',\n",
       " 'InvoiceDate',\n",
       " 'Price',\n",
       " 'Customer ID',\n",
       " 'Country']"
      ]
     },
     "execution_count": 28,
     "metadata": {},
     "output_type": "execute_result"
    }
   ],
   "source": [
    "df.columns"
   ]
  },
  {
   "cell_type": "code",
   "execution_count": 29,
   "metadata": {},
   "outputs": [],
   "source": [
    "df = df.withColumnRenamed('Price', 'GBPPrice')"
   ]
  },
  {
   "cell_type": "code",
   "execution_count": 30,
   "metadata": {},
   "outputs": [
    {
     "data": {
      "text/plain": [
       "['Invoice',\n",
       " 'StockCode',\n",
       " 'Description',\n",
       " 'Quantity',\n",
       " 'InvoiceDate',\n",
       " 'GBPPrice',\n",
       " 'Customer ID',\n",
       " 'Country']"
      ]
     },
     "execution_count": 30,
     "metadata": {},
     "output_type": "execute_result"
    }
   ],
   "source": [
    "df.columns"
   ]
  },
  {
   "cell_type": "markdown",
   "metadata": {
    "id": "jNWeSFR0TqHt"
   },
   "source": [
    "### Convert dtype"
   ]
  },
  {
   "cell_type": "code",
   "execution_count": 31,
   "metadata": {},
   "outputs": [
    {
     "data": {
      "text/plain": [
       "[('Invoice', 'string'),\n",
       " ('StockCode', 'string'),\n",
       " ('Description', 'string'),\n",
       " ('Quantity', 'int'),\n",
       " ('InvoiceDate', 'string'),\n",
       " ('GBPPrice', 'double'),\n",
       " ('Customer ID', 'int'),\n",
       " ('Country', 'string')]"
      ]
     },
     "execution_count": 31,
     "metadata": {},
     "output_type": "execute_result"
    }
   ],
   "source": [
    "df.dtypes"
   ]
  },
  {
   "cell_type": "code",
   "execution_count": 32,
   "metadata": {},
   "outputs": [
    {
     "name": "stdout",
     "output_type": "stream",
     "text": [
      "+-------+---------+--------------------+--------+--------------+--------+-----------+--------------+-------------------+\n",
      "|Invoice|StockCode|         Description|Quantity|   InvoiceDate|GBPPrice|Customer ID|       Country|    InvoiceDateTime|\n",
      "+-------+---------+--------------------+--------+--------------+--------+-----------+--------------+-------------------+\n",
      "| 489434|    85048|15CM CHRISTMAS GL...|      12|12/01/09 07:45|    6.95|      13085|United Kingdom|2009-01-12 07:45:00|\n",
      "| 489434|   79323P|  PINK CHERRY LIGHTS|      12|12/01/09 07:45|    6.75|      13085|United Kingdom|2009-01-12 07:45:00|\n",
      "| 489434|   79323W| WHITE CHERRY LIGHTS|      12|12/01/09 07:45|    6.75|      13085|United Kingdom|2009-01-12 07:45:00|\n",
      "| 489434|    22041|\"RECORD FRAME 7\"\"...|      48|12/01/09 07:45|     2.1|      13085|United Kingdom|2009-01-12 07:45:00|\n",
      "| 489434|    21232|STRAWBERRY CERAMI...|      24|12/01/09 07:45|    1.25|      13085|United Kingdom|2009-01-12 07:45:00|\n",
      "| 489434|    22064|PINK DOUGHNUT TRI...|      24|12/01/09 07:45|    1.65|      13085|United Kingdom|2009-01-12 07:45:00|\n",
      "| 489434|    21871| SAVE THE PLANET MUG|      24|12/01/09 07:45|    1.25|      13085|United Kingdom|2009-01-12 07:45:00|\n",
      "| 489434|    21523|FANCY FONT HOME S...|      10|12/01/09 07:45|    5.95|      13085|United Kingdom|2009-01-12 07:45:00|\n",
      "| 489435|    22350|           CAT BOWL |      12|12/01/09 07:46|    2.55|      13085|United Kingdom|2009-01-12 07:46:00|\n",
      "| 489435|    22349|DOG BOWL , CHASIN...|      12|12/01/09 07:46|    3.75|      13085|United Kingdom|2009-01-12 07:46:00|\n",
      "| 489435|    22195|HEART MEASURING S...|      24|12/01/09 07:46|    1.65|      13085|United Kingdom|2009-01-12 07:46:00|\n",
      "| 489435|    22353|LUNCHBOX WITH CUT...|      12|12/01/09 07:46|    2.55|      13085|United Kingdom|2009-01-12 07:46:00|\n",
      "| 489436|   48173C|DOOR MAT BLACK FL...|      10|12/01/09 09:06|    5.95|      13078|United Kingdom|2009-01-12 09:06:00|\n",
      "| 489436|    21755|LOVE BUILDING BLO...|      18|12/01/09 09:06|    5.45|      13078|United Kingdom|2009-01-12 09:06:00|\n",
      "| 489436|    21754|HOME BUILDING BLO...|       3|12/01/09 09:06|    5.95|      13078|United Kingdom|2009-01-12 09:06:00|\n",
      "| 489436|    84879|ASSORTED COLOUR B...|      16|12/01/09 09:06|    1.69|      13078|United Kingdom|2009-01-12 09:06:00|\n",
      "| 489436|    22119| PEACE WOODEN BLO...|       3|12/01/09 09:06|    6.95|      13078|United Kingdom|2009-01-12 09:06:00|\n",
      "| 489436|    22142|CHRISTMAS CRAFT W...|      12|12/01/09 09:06|    1.45|      13078|United Kingdom|2009-01-12 09:06:00|\n",
      "| 489436|    22296|HEART IVORY TRELL...|      12|12/01/09 09:06|    1.65|      13078|United Kingdom|2009-01-12 09:06:00|\n",
      "| 489436|    22295|HEART FILIGREE DO...|      12|12/01/09 09:06|    1.65|      13078|United Kingdom|2009-01-12 09:06:00|\n",
      "+-------+---------+--------------------+--------+--------------+--------+-----------+--------------+-------------------+\n",
      "only showing top 20 rows\n",
      "\n"
     ]
    }
   ],
   "source": [
    "# InvoiceDate string -> timestamp\n",
    "from pyspark.sql.functions import to_timestamp\n",
    "\n",
    "df = df.withColumn('InvoiceDateTime', to_timestamp(col='InvoiceDate', format='dd/MM/yy HH:mm'))\n",
    "df.show()"
   ]
  },
  {
   "cell_type": "code",
   "execution_count": 33,
   "metadata": {},
   "outputs": [
    {
     "name": "stdout",
     "output_type": "stream",
     "text": [
      "root\n",
      " |-- Invoice: string (nullable = true)\n",
      " |-- StockCode: string (nullable = true)\n",
      " |-- Description: string (nullable = true)\n",
      " |-- Quantity: integer (nullable = true)\n",
      " |-- InvoiceDate: string (nullable = true)\n",
      " |-- GBPPrice: double (nullable = true)\n",
      " |-- Customer ID: integer (nullable = true)\n",
      " |-- Country: string (nullable = true)\n",
      " |-- InvoiceDateTime: timestamp (nullable = true)\n",
      "\n"
     ]
    }
   ],
   "source": [
    "df.printSchema()"
   ]
  },
  {
   "cell_type": "markdown",
   "metadata": {
    "id": "NlewC3HjbMty"
   },
   "source": [
    "### Anomalies Check\n",
    "- StockCode: Product (item) code. Nominal. A 5-digit integral number uniquely assigned to each distinct product."
   ]
  },
  {
   "cell_type": "code",
   "execution_count": 34,
   "metadata": {},
   "outputs": [
    {
     "name": "stdout",
     "output_type": "stream",
     "text": [
      "+---------+\n",
      "|Stockcode|\n",
      "+---------+\n",
      "|    21248|\n",
      "|    22121|\n",
      "|    21889|\n",
      "|    22254|\n",
      "|   84899F|\n",
      "|    21249|\n",
      "|    21259|\n",
      "|   90197B|\n",
      "|    21894|\n",
      "|    90022|\n",
      "|    21331|\n",
      "|    20868|\n",
      "|   90210B|\n",
      "|   90177A|\n",
      "|    90143|\n",
      "|   72752D|\n",
      "|    22130|\n",
      "|    21671|\n",
      "|    21711|\n",
      "|    21535|\n",
      "+---------+\n",
      "only showing top 20 rows\n",
      "\n"
     ]
    }
   ],
   "source": [
    "df.select('Stockcode').distinct().show()"
   ]
  },
  {
   "cell_type": "code",
   "execution_count": 35,
   "metadata": {},
   "outputs": [
    {
     "name": "stdout",
     "output_type": "stream",
     "text": [
      "+-------+---------+--------------------+--------+--------------+--------+-----------+--------------+-------------------+\n",
      "|Invoice|StockCode|         Description|Quantity|   InvoiceDate|GBPPrice|Customer ID|       Country|    InvoiceDateTime|\n",
      "+-------+---------+--------------------+--------+--------------+--------+-----------+--------------+-------------------+\n",
      "| 489434|   79323P|  PINK CHERRY LIGHTS|      12|12/01/09 07:45|    6.75|      13085|United Kingdom|2009-01-12 07:45:00|\n",
      "| 489434|   79323W| WHITE CHERRY LIGHTS|      12|12/01/09 07:45|    6.75|      13085|United Kingdom|2009-01-12 07:45:00|\n",
      "| 489436|   48173C|DOOR MAT BLACK FL...|      10|12/01/09 09:06|    5.95|      13078|United Kingdom|2009-01-12 09:06:00|\n",
      "| 489436|   35004B|SET OF 3 BLACK FL...|      12|12/01/09 09:06|    4.65|      13078|United Kingdom|2009-01-12 09:06:00|\n",
      "| 489436|   84596F|SMALL MARSHMALLOW...|       8|12/01/09 09:06|    1.25|      13078|United Kingdom|2009-01-12 09:06:00|\n",
      "+-------+---------+--------------------+--------+--------------+--------+-----------+--------------+-------------------+\n",
      "only showing top 5 rows\n",
      "\n"
     ]
    }
   ],
   "source": [
    "df.filter(df['Stockcode'].rlike('[A-Z]+')).show(5)"
   ]
  },
  {
   "cell_type": "code",
   "execution_count": 36,
   "metadata": {},
   "outputs": [
    {
     "name": "stdout",
     "output_type": "stream",
     "text": [
      "+-------+---------+--------------------+--------+--------------+--------+-----------+--------------+-------------------+\n",
      "|Invoice|StockCode|         Description|Quantity|   InvoiceDate|GBPPrice|Customer ID|       Country|    InvoiceDateTime|\n",
      "+-------+---------+--------------------+--------+--------------+--------+-----------+--------------+-------------------+\n",
      "| 489600|   72349b|SET/6 PURPLE BUTT...|       2|12/01/09 02:43|     4.3|       null|United Kingdom|2009-01-12 02:43:00|\n",
      "| 489600|   72529w| WHITE ADVENT CANDLE|       1|12/01/09 02:43|     4.3|       null|United Kingdom|2009-01-12 02:43:00|\n",
      "| 489600|   72807c|SET/3 VANILLA SCE...|       1|12/01/09 02:43|    8.65|       null|United Kingdom|2009-01-12 02:43:00|\n",
      "| 489600|   84797b|BLUE SAVANNAH PIC...|       1|12/01/09 02:43|   11.26|       null|United Kingdom|2009-01-12 02:43:00|\n",
      "| 489601|   84872a|TEATIME FUNKY FLO...|       1|12/01/09 02:44|   11.26|       null|United Kingdom|2009-01-12 02:44:00|\n",
      "+-------+---------+--------------------+--------+--------------+--------+-----------+--------------+-------------------+\n",
      "only showing top 5 rows\n",
      "\n"
     ]
    }
   ],
   "source": [
    "df.filter(df['Stockcode'].rlike('[a-z]+')).show(5)"
   ]
  },
  {
   "cell_type": "code",
   "execution_count": 37,
   "metadata": {},
   "outputs": [],
   "source": [
    "from pyspark.sql.functions import regexp_replace\n",
    "\n",
    "df = df.withColumn('StockCode', regexp_replace(df['Stockcode'], r'[A-Za-z]', ''))"
   ]
  },
  {
   "cell_type": "code",
   "execution_count": 38,
   "metadata": {},
   "outputs": [
    {
     "name": "stdout",
     "output_type": "stream",
     "text": [
      "+-------+---------+-----------+--------+-----------+--------+-----------+-------+---------------+\n",
      "|Invoice|StockCode|Description|Quantity|InvoiceDate|GBPPrice|Customer ID|Country|InvoiceDateTime|\n",
      "+-------+---------+-----------+--------+-----------+--------+-----------+-------+---------------+\n",
      "+-------+---------+-----------+--------+-----------+--------+-----------+-------+---------------+\n",
      "\n"
     ]
    }
   ],
   "source": [
    "df.filter(df['Stockcode'].rlike('[A-Za-z]+')).show()"
   ]
  },
  {
   "cell_type": "markdown",
   "metadata": {
    "id": "4kCf3LsX2b8L"
   },
   "source": [
    "### Missing values"
   ]
  },
  {
   "cell_type": "code",
   "execution_count": 39,
   "metadata": {},
   "outputs": [
    {
     "name": "stdout",
     "output_type": "stream",
     "text": [
      "Invoice\n",
      "StockCode\n",
      "Description\n",
      "Quantity\n",
      "InvoiceDate\n",
      "GBPPrice\n",
      "Customer ID\n",
      "Country\n",
      "InvoiceDateTime\n"
     ]
    }
   ],
   "source": [
    "for c in df.columns:\n",
    "    print(c)"
   ]
  },
  {
   "cell_type": "code",
   "execution_count": 40,
   "metadata": {},
   "outputs": [
    {
     "data": {
      "text/plain": [
       "Column<'CAST(sum((Description IS NULL)) AS INT)'>"
      ]
     },
     "execution_count": 40,
     "metadata": {},
     "output_type": "execute_result"
    }
   ],
   "source": [
    "from pyspark.sql.functions import sum, col\n",
    "\n",
    "sum(col('Description').isNull()).cast('int')"
   ]
  },
  {
   "cell_type": "code",
   "execution_count": 41,
   "metadata": {},
   "outputs": [
    {
     "data": {
      "text/plain": [
       "[Column<'sum(CAST((Invoice IS NULL) AS INT)) AS Invoice'>,\n",
       " Column<'sum(CAST((StockCode IS NULL) AS INT)) AS StockCode'>,\n",
       " Column<'sum(CAST((Description IS NULL) AS INT)) AS Description'>,\n",
       " Column<'sum(CAST((Quantity IS NULL) AS INT)) AS Quantity'>,\n",
       " Column<'sum(CAST((InvoiceDate IS NULL) AS INT)) AS InvoiceDate'>,\n",
       " Column<'sum(CAST((GBPPrice IS NULL) AS INT)) AS GBPPrice'>,\n",
       " Column<'sum(CAST((Customer ID IS NULL) AS INT)) AS `Customer ID`'>,\n",
       " Column<'sum(CAST((Country IS NULL) AS INT)) AS Country'>,\n",
       " Column<'sum(CAST((InvoiceDateTime IS NULL) AS INT)) AS InvoiceDateTime'>]"
      ]
     },
     "execution_count": 41,
     "metadata": {},
     "output_type": "execute_result"
    }
   ],
   "source": [
    "[sum(col(c).isNull().cast('int')).alias(c) for c in df.columns]"
   ]
  },
  {
   "cell_type": "code",
   "execution_count": 42,
   "metadata": {},
   "outputs": [
    {
     "name": "stdout",
     "output_type": "stream",
     "text": [
      "+-------+---------+-----------+--------+-----------+--------+-----------+-------+---------------+\n",
      "|Invoice|StockCode|Description|Quantity|InvoiceDate|GBPPrice|Customer ID|Country|InvoiceDateTime|\n",
      "+-------+---------+-----------+--------+-----------+--------+-----------+-------+---------------+\n",
      "|      0|        0|       2928|       0|          0|       0|     107927|      0|         307243|\n",
      "+-------+---------+-----------+--------+-----------+--------+-----------+-------+---------------+\n",
      "\n"
     ]
    }
   ],
   "source": [
    "df.select([sum(col(c).isNull().cast('int')).alias(c) for c in df.columns]).show()"
   ]
  },
  {
   "cell_type": "code",
   "execution_count": 43,
   "metadata": {},
   "outputs": [
    {
     "name": "stdout",
     "output_type": "stream",
     "text": [
      "+-------+---------+--------------------+--------+--------------+--------+-----------+--------------+-------------------+\n",
      "|Invoice|StockCode|         Description|Quantity|   InvoiceDate|GBPPrice|Customer ID|       Country|    InvoiceDateTime|\n",
      "+-------+---------+--------------------+--------+--------------+--------+-----------+--------------+-------------------+\n",
      "| 489464|    21733|        85123a mixed|     -96|12/01/09 10:52|     0.0|       null|United Kingdom|2009-01-12 10:52:00|\n",
      "| 489463|    71477|               short|    -240|12/01/09 10:52|     0.0|       null|United Kingdom|2009-01-12 10:52:00|\n",
      "| 489467|    85123|         21733 mixed|    -192|12/01/09 10:53|     0.0|       null|United Kingdom|2009-01-12 10:53:00|\n",
      "| 489521|    21646|                null|     -50|12/01/09 11:44|     0.0|       null|United Kingdom|2009-01-12 11:44:00|\n",
      "| 489525|    85226|BLUE PULL BACK RA...|       1|12/01/09 11:49|    0.55|       null|United Kingdom|2009-01-12 11:49:00|\n",
      "| 489525|    85227|SET/6 3D KIT CARD...|       1|12/01/09 11:49|    0.85|       null|United Kingdom|2009-01-12 11:49:00|\n",
      "| 489548|    22271|FELTCRAFT DOLL ROSIE|       1|12/01/09 12:32|    2.95|       null|United Kingdom|2009-01-12 12:32:00|\n",
      "| 489548|    22254|FELT TOADSTOOL LARGE|      12|12/01/09 12:32|    1.25|       null|United Kingdom|2009-01-12 12:32:00|\n",
      "| 489548|    22273|FELTCRAFT DOLL MOLLY|       3|12/01/09 12:32|    2.95|       null|United Kingdom|2009-01-12 12:32:00|\n",
      "| 489548|    22195|LARGE HEART MEASU...|       1|12/01/09 12:32|    1.65|       null|United Kingdom|2009-01-12 12:32:00|\n",
      "| 489548|    22131|FOOD CONTAINER SE...|       2|12/01/09 12:32|    1.95|       null|United Kingdom|2009-01-12 12:32:00|\n",
      "| 489548|    22079|RIBBON REEL HEART...|      10|12/01/09 12:32|    1.65|       null|United Kingdom|2009-01-12 12:32:00|\n",
      "| 489548|    22138|BAKING SET 9 PIEC...|       3|12/01/09 12:32|    4.95|       null|United Kingdom|2009-01-12 12:32:00|\n",
      "| 489548|    22147|FELTCRAFT BUTTERF...|       2|12/01/09 12:32|    1.45|       null|United Kingdom|2009-01-12 12:32:00|\n",
      "| 489548|    22142|CHRISTMAS CRAFT W...|       2|12/01/09 12:32|    1.45|       null|United Kingdom|2009-01-12 12:32:00|\n",
      "| 489548|    22150| 3 STRIPEY MICE F...|       2|12/01/09 12:32|    1.95|       null|United Kingdom|2009-01-12 12:32:00|\n",
      "| 489548|    20804|GLASS CHICKEN BUT...|       1|12/01/09 12:32|    1.65|       null|United Kingdom|2009-01-12 12:32:00|\n",
      "| 489548|    22196|SMALL HEART MEASU...|       8|12/01/09 12:32|    0.85|       null|United Kingdom|2009-01-12 12:32:00|\n",
      "| 489548|    22086|PAPER CHAIN KIT 5...|       3|12/01/09 12:32|    2.95|       null|United Kingdom|2009-01-12 12:32:00|\n",
      "| 489548|    21115|ROSE CARAVAN DOOR...|       1|12/01/09 12:32|    6.75|       null|United Kingdom|2009-01-12 12:32:00|\n",
      "+-------+---------+--------------------+--------+--------------+--------+-----------+--------------+-------------------+\n",
      "only showing top 20 rows\n",
      "\n"
     ]
    }
   ],
   "source": [
    "df.filter(df['Customer ID'].isNull()).show()"
   ]
  },
  {
   "cell_type": "code",
   "execution_count": 44,
   "metadata": {},
   "outputs": [],
   "source": [
    "from pyspark.sql.functions import when\n",
    "\n",
    "df = df.withColumn('Customer ID', when(df['Customer ID'].isNull(), -1).otherwise(df['Customer ID']))"
   ]
  },
  {
   "cell_type": "code",
   "execution_count": 45,
   "metadata": {},
   "outputs": [
    {
     "name": "stdout",
     "output_type": "stream",
     "text": [
      "+-------+---------+-----------+--------+-----------+--------+-----------+-------+---------------+\n",
      "|Invoice|StockCode|Description|Quantity|InvoiceDate|GBPPrice|Customer ID|Country|InvoiceDateTime|\n",
      "+-------+---------+-----------+--------+-----------+--------+-----------+-------+---------------+\n",
      "+-------+---------+-----------+--------+-----------+--------+-----------+-------+---------------+\n",
      "\n"
     ]
    }
   ],
   "source": [
    "df.filter(df['Customer ID'].isNull()).show()"
   ]
  },
  {
   "cell_type": "markdown",
   "metadata": {},
   "source": [
    "### SQL"
   ]
  },
  {
   "cell_type": "code",
   "execution_count": 46,
   "metadata": {},
   "outputs": [],
   "source": [
    "df.createOrReplaceTempView('sales')"
   ]
  },
  {
   "cell_type": "code",
   "execution_count": 47,
   "metadata": {},
   "outputs": [
    {
     "name": "stdout",
     "output_type": "stream",
     "text": [
      "+-------+---------+--------------------+--------+--------------+--------+-----------+--------------+-------------------+\n",
      "|Invoice|StockCode|         Description|Quantity|   InvoiceDate|GBPPrice|Customer ID|       Country|    InvoiceDateTime|\n",
      "+-------+---------+--------------------+--------+--------------+--------+-----------+--------------+-------------------+\n",
      "| 489434|    85048|15CM CHRISTMAS GL...|      12|12/01/09 07:45|    6.95|      13085|United Kingdom|2009-01-12 07:45:00|\n",
      "| 489434|    79323|  PINK CHERRY LIGHTS|      12|12/01/09 07:45|    6.75|      13085|United Kingdom|2009-01-12 07:45:00|\n",
      "| 489434|    79323| WHITE CHERRY LIGHTS|      12|12/01/09 07:45|    6.75|      13085|United Kingdom|2009-01-12 07:45:00|\n",
      "| 489434|    22041|\"RECORD FRAME 7\"\"...|      48|12/01/09 07:45|     2.1|      13085|United Kingdom|2009-01-12 07:45:00|\n",
      "| 489434|    21232|STRAWBERRY CERAMI...|      24|12/01/09 07:45|    1.25|      13085|United Kingdom|2009-01-12 07:45:00|\n",
      "+-------+---------+--------------------+--------+--------------+--------+-----------+--------------+-------------------+\n",
      "\n"
     ]
    }
   ],
   "source": [
    "spark.sql('SELECT * FROM sales limit 5;').show()"
   ]
  },
  {
   "cell_type": "code",
   "execution_count": 48,
   "metadata": {},
   "outputs": [
    {
     "name": "stdout",
     "output_type": "stream",
     "text": [
      "+--------+\n",
      "|count(1)|\n",
      "+--------+\n",
      "|  525461|\n",
      "+--------+\n",
      "\n"
     ]
    }
   ],
   "source": [
    "spark.sql('SELECT count(*) FROM sales').show()"
   ]
  },
  {
   "cell_type": "code",
   "execution_count": 49,
   "metadata": {},
   "outputs": [
    {
     "name": "stdout",
     "output_type": "stream",
     "text": [
      "+-------+--------------------+\n",
      "|cnt_row|             country|\n",
      "+-------+--------------------+\n",
      "| 485852|      United Kingdom|\n",
      "|   9670|                EIRE|\n",
      "|   8129|             Germany|\n",
      "|   5772|              France|\n",
      "|   2769|         Netherlands|\n",
      "|   1278|               Spain|\n",
      "|   1187|         Switzerland|\n",
      "|   1101|            Portugal|\n",
      "|   1054|             Belgium|\n",
      "|    906|     Channel Islands|\n",
      "|    902|              Sweden|\n",
      "|    731|               Italy|\n",
      "|    654|           Australia|\n",
      "|    554|              Cyprus|\n",
      "|    537|             Austria|\n",
      "|    517|              Greece|\n",
      "|    432|United Arab Emirates|\n",
      "|    428|             Denmark|\n",
      "|    369|              Norway|\n",
      "|    354|             Finland|\n",
      "+-------+--------------------+\n",
      "only showing top 20 rows\n",
      "\n"
     ]
    }
   ],
   "source": [
    "spark.sql('SELECT count(*) as cnt_row, country FROM sales GROUP BY Country ORDER BY cnt_row DESC').show()"
   ]
  },
  {
   "cell_type": "code",
   "execution_count": 50,
   "metadata": {},
   "outputs": [
    {
     "name": "stdout",
     "output_type": "stream",
     "text": [
      "+-------+---------+--------------------+--------+--------------+--------+-----------+-------+-------------------+\n",
      "|Invoice|StockCode|         Description|Quantity|   InvoiceDate|GBPPrice|Customer ID|Country|    InvoiceDateTime|\n",
      "+-------+---------+--------------------+--------+--------------+--------+-----------+-------+-------------------+\n",
      "| 494234|         |             POSTAGE|       1|01/12/10 03:01|     5.0|      12549|    USA|2010-12-01 03:01:00|\n",
      "| 526668|    22372|AIRLINE BAG VINTA...|       4|10/12/10 03:41|    4.25|      12467|    USA|2010-12-10 03:41:00|\n",
      "+-------+---------+--------------------+--------+--------------+--------+-----------+-------+-------------------+\n",
      "\n"
     ]
    }
   ],
   "source": [
    "spark.sql(\"\"\"\n",
    "SELECT * FROM sales\n",
    "  WHERE InvoiceDateTime >= '2010-12-01'\n",
    "  AND GBPPrice > 3.5\n",
    "  AND Country='USA'\n",
    "\"\"\").show()"
   ]
  },
  {
   "cell_type": "code",
   "execution_count": 51,
   "metadata": {},
   "outputs": [],
   "source": [
    "df.write.csv('cleaned_online_retail_II', header=True)"
   ]
  },
  {
   "cell_type": "code",
   "execution_count": 52,
   "metadata": {},
   "outputs": [
    {
     "data": {
      "text/plain": [
       "525461"
      ]
     },
     "execution_count": 52,
     "metadata": {},
     "output_type": "execute_result"
    }
   ],
   "source": [
    "df.count()"
   ]
  },
  {
   "cell_type": "code",
   "execution_count": 53,
   "metadata": {},
   "outputs": [],
   "source": [
    "df2 = spark.read.csv('cleaned_online_retail_II/*.csv', header=True, inferSchema = True)"
   ]
  },
  {
   "cell_type": "code",
   "execution_count": 54,
   "metadata": {},
   "outputs": [
    {
     "name": "stdout",
     "output_type": "stream",
     "text": [
      "+-------+---------+--------------------+--------+--------------+--------+-----------+--------------+-------------------+\n",
      "|Invoice|StockCode|         Description|Quantity|   InvoiceDate|GBPPrice|Customer ID|       Country|    InvoiceDateTime|\n",
      "+-------+---------+--------------------+--------+--------------+--------+-----------+--------------+-------------------+\n",
      "| 489434|    85048|15CM CHRISTMAS GL...|      12|12/01/09 07:45|    6.95|      13085|United Kingdom|2009-01-12 07:45:00|\n",
      "| 489434|    79323|  PINK CHERRY LIGHTS|      12|12/01/09 07:45|    6.75|      13085|United Kingdom|2009-01-12 07:45:00|\n",
      "| 489434|    79323| WHITE CHERRY LIGHTS|      12|12/01/09 07:45|    6.75|      13085|United Kingdom|2009-01-12 07:45:00|\n",
      "| 489434|    22041|\"RECORD FRAME 7\"\"...|      48|12/01/09 07:45|     2.1|      13085|United Kingdom|2009-01-12 07:45:00|\n",
      "| 489434|    21232|STRAWBERRY CERAMI...|      24|12/01/09 07:45|    1.25|      13085|United Kingdom|2009-01-12 07:45:00|\n",
      "| 489434|    22064|PINK DOUGHNUT TRI...|      24|12/01/09 07:45|    1.65|      13085|United Kingdom|2009-01-12 07:45:00|\n",
      "| 489434|    21871| SAVE THE PLANET MUG|      24|12/01/09 07:45|    1.25|      13085|United Kingdom|2009-01-12 07:45:00|\n",
      "| 489434|    21523|FANCY FONT HOME S...|      10|12/01/09 07:45|    5.95|      13085|United Kingdom|2009-01-12 07:45:00|\n",
      "| 489435|    22350|            CAT BOWL|      12|12/01/09 07:46|    2.55|      13085|United Kingdom|2009-01-12 07:46:00|\n",
      "| 489435|    22349|DOG BOWL , CHASIN...|      12|12/01/09 07:46|    3.75|      13085|United Kingdom|2009-01-12 07:46:00|\n",
      "| 489435|    22195|HEART MEASURING S...|      24|12/01/09 07:46|    1.65|      13085|United Kingdom|2009-01-12 07:46:00|\n",
      "| 489435|    22353|LUNCHBOX WITH CUT...|      12|12/01/09 07:46|    2.55|      13085|United Kingdom|2009-01-12 07:46:00|\n",
      "| 489436|    48173|DOOR MAT BLACK FLOCK|      10|12/01/09 09:06|    5.95|      13078|United Kingdom|2009-01-12 09:06:00|\n",
      "| 489436|    21755|LOVE BUILDING BLO...|      18|12/01/09 09:06|    5.45|      13078|United Kingdom|2009-01-12 09:06:00|\n",
      "| 489436|    21754|HOME BUILDING BLO...|       3|12/01/09 09:06|    5.95|      13078|United Kingdom|2009-01-12 09:06:00|\n",
      "| 489436|    84879|ASSORTED COLOUR B...|      16|12/01/09 09:06|    1.69|      13078|United Kingdom|2009-01-12 09:06:00|\n",
      "| 489436|    22119|PEACE WOODEN BLOC...|       3|12/01/09 09:06|    6.95|      13078|United Kingdom|2009-01-12 09:06:00|\n",
      "| 489436|    22142|CHRISTMAS CRAFT W...|      12|12/01/09 09:06|    1.45|      13078|United Kingdom|2009-01-12 09:06:00|\n",
      "| 489436|    22296|HEART IVORY TRELL...|      12|12/01/09 09:06|    1.65|      13078|United Kingdom|2009-01-12 09:06:00|\n",
      "| 489436|    22295|HEART FILIGREE DO...|      12|12/01/09 09:06|    1.65|      13078|United Kingdom|2009-01-12 09:06:00|\n",
      "+-------+---------+--------------------+--------+--------------+--------+-----------+--------------+-------------------+\n",
      "only showing top 20 rows\n",
      "\n"
     ]
    }
   ],
   "source": [
    "df2.show()"
   ]
  },
  {
   "cell_type": "code",
   "execution_count": 55,
   "metadata": {},
   "outputs": [
    {
     "data": {
      "text/plain": [
       "525461"
      ]
     },
     "execution_count": 55,
     "metadata": {},
     "output_type": "execute_result"
    }
   ],
   "source": [
    "df2.count()"
   ]
  }
 ],
 "metadata": {
  "kernelspec": {
   "display_name": "Python 3.9.13 ('pyspark')",
   "language": "python",
   "name": "python3"
  },
  "language_info": {
   "codemirror_mode": {
    "name": "ipython",
    "version": 3
   },
   "file_extension": ".py",
   "mimetype": "text/x-python",
   "name": "python",
   "nbconvert_exporter": "python",
   "pygments_lexer": "ipython3",
   "version": "3.9.13"
  },
  "orig_nbformat": 4,
  "vscode": {
   "interpreter": {
    "hash": "c35c57d2d47d77ec38cfade53f288d0abe3dc658914e3f2b75648cca681aa3a3"
   }
  }
 },
 "nbformat": 4,
 "nbformat_minor": 2
}
