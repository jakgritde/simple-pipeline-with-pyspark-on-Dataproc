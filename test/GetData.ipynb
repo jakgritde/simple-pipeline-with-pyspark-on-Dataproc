{
 "cells": [
  {
   "cell_type": "markdown",
   "metadata": {},
   "source": [
    "#### Get data from UC Irvine Machine Learning Repository\n",
    "https://archive-beta.ics.uci.edu/ml/datasets/online+retail+ii"
   ]
  },
  {
   "cell_type": "code",
   "execution_count": 1,
   "metadata": {},
   "outputs": [
    {
     "name": "stderr",
     "output_type": "stream",
     "text": [
      "  % Total    % Received % Xferd  Average Speed   Time    Time     Time  Current\n",
      "                                 Dload  Upload   Total   Spent    Left  Speed\n",
      "\n",
      "  0     0    0     0    0     0      0      0 --:--:-- --:--:-- --:--:--     0\n",
      "  0 43.5M    0     0    0     0      0      0 --:--:--  0:00:01 --:--:--     0\n",
      "  0 43.5M    0  201k    0     0   101k      0  0:07:17  0:00:01  0:07:16  101k\n",
      "  7 43.5M    7 3503k    0     0  1194k      0  0:00:37  0:00:02  0:00:35 1193k\n",
      " 39 43.5M   39 17.1M    0     0  4467k      0  0:00:09  0:00:03  0:00:06 4466k\n",
      " 67 43.5M   67 29.4M    0     0  6138k      0  0:00:07  0:00:04  0:00:03 6139k\n",
      "100 43.5M  100 43.5M    0     0  7835k      0  0:00:05  0:00:05 --:--:-- 9554k\n"
     ]
    }
   ],
   "source": [
    "! curl -Lo online_retail_II.xlsx \"https://archive.ics.uci.edu/ml/machine-learning-databases/00502/online_retail_II.xlsx\""
   ]
  },
  {
   "cell_type": "code",
   "execution_count": 2,
   "metadata": {},
   "outputs": [],
   "source": [
    "! wsl xlsx2csv online_retail_II.xlsx > ../data/online_retail_II.csv"
   ]
  },
  {
   "cell_type": "code",
   "execution_count": 3,
   "metadata": {},
   "outputs": [],
   "source": [
    "! rm online_retail_II.xlsx"
   ]
  },
  {
   "cell_type": "code",
   "execution_count": 4,
   "metadata": {},
   "outputs": [
    {
     "name": "stdout",
     "output_type": "stream",
     "text": [
      "Invoice,StockCode,Description,Quantity,InvoiceDate,Price,Customer ID,Country\n",
      "489434,85048,15CM CHRISTMAS GLASS BALL 20 LIGHTS,12,12/01/09 07:45,6.95,13085,United Kingdom\n",
      "489434,79323P,PINK CHERRY LIGHTS,12,12/01/09 07:45,6.75,13085,United Kingdom\n",
      "489434,79323W, WHITE CHERRY LIGHTS,12,12/01/09 07:45,6.75,13085,United Kingdom\n",
      "489434,22041,\"RECORD FRAME 7\"\" SINGLE SIZE \",48,12/01/09 07:45,2.1,13085,United Kingdom\n"
     ]
    }
   ],
   "source": [
    "! head -n 5 ../data/online_retail_II.csv"
   ]
  }
 ],
 "metadata": {
  "kernelspec": {
   "display_name": "Python 3.9.12 ('base')",
   "language": "python",
   "name": "python3"
  },
  "language_info": {
   "codemirror_mode": {
    "name": "ipython",
    "version": 3
   },
   "file_extension": ".py",
   "mimetype": "text/x-python",
   "name": "python",
   "nbconvert_exporter": "python",
   "pygments_lexer": "ipython3",
   "version": "3.9.12"
  },
  "orig_nbformat": 4,
  "vscode": {
   "interpreter": {
    "hash": "5e0aee7d38fa16471daf6ce5c092e51084a45eca5143944258d68ba9f3657ebb"
   }
  }
 },
 "nbformat": 4,
 "nbformat_minor": 2
}
